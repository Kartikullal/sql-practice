{
 "cells": [
  {
   "cell_type": "code",
   "execution_count": 3,
   "metadata": {},
   "outputs": [],
   "source": [
    "import pymysql\n",
    "import configparser\n",
    "import pandas as pd\n",
    "import matplotlib.pyplot as plt\n",
    "import seaborn as sns"
   ]
  },
  {
   "cell_type": "code",
   "execution_count": 4,
   "metadata": {},
   "outputs": [],
   "source": [
    "parser = configparser.ConfigParser()\n",
    "parser.read(\"../config.conf\")\n",
    "hostname = parser.get(\"mysql_config\",\"hostname\")\n",
    "port = parser.get(\"mysql_config\",\"port\")\n",
    "username = parser.get(\"mysql_config\",\"username\")\n",
    "password = parser.get(\"mysql_config\",\"password\")\n"
   ]
  },
  {
   "cell_type": "code",
   "execution_count": 5,
   "metadata": {},
   "outputs": [
    {
     "name": "stdout",
     "output_type": "stream",
     "text": [
      "MySQL connection established\n"
     ]
    }
   ],
   "source": [
    "conn = pymysql.connect(\n",
    "                host=hostname,\n",
    "                user = username,\n",
    "                password = password,\n",
    "                port = int(port)\n",
    "        )\n",
    "\n",
    "if conn is None:\n",
    "    print(\"Error connecting to MySQL database\")\n",
    "else:\n",
    "    print(\"MySQL connection established\")"
   ]
  },
  {
   "cell_type": "markdown",
   "metadata": {},
   "source": [
    "# Creating Database"
   ]
  },
  {
   "cell_type": "code",
   "execution_count": 6,
   "metadata": {},
   "outputs": [
    {
     "name": "stdout",
     "output_type": "stream",
     "text": [
      "Databases: (('dannysdiner',), ('information_schema',), ('mysql',), ('Orders',), ('performance_schema',), ('PokemonGo',), ('pubmed',), ('sakila',), ('sys',))\n"
     ]
    },
    {
     "data": {
      "text/plain": [
       "0"
      ]
     },
     "execution_count": 6,
     "metadata": {},
     "output_type": "execute_result"
    }
   ],
   "source": [
    "query = \"\"\"CREATE DATABASE IF NOT EXISTS dannysdiner\"\"\"\n",
    "cursor = conn.cursor()\n",
    "cursor.execute(query)\n",
    "\n",
    "query = \"\"\"SHOW databases;\"\"\"\n",
    "cursor.execute(query)\n",
    "results = cursor.fetchall()\n",
    "print(f\"Databases: {results}\")\n",
    "\n",
    "query = \"\"\"USE dannysdiner;\"\"\"\n",
    "cursor.execute(query)\n"
   ]
  },
  {
   "cell_type": "markdown",
   "metadata": {},
   "source": [
    "# Creating Tables and Inserting values"
   ]
  },
  {
   "cell_type": "markdown",
   "metadata": {},
   "source": [
    "## Sales Data Table"
   ]
  },
  {
   "cell_type": "code",
   "execution_count": 7,
   "metadata": {},
   "outputs": [],
   "source": [
    "query = \"\"\"DROP Table IF EXISTS sales;\"\"\"\n",
    "cursor = conn.cursor()\n",
    "cursor.execute(query)\n",
    "\n",
    "query = \"\"\"\n",
    "CREATE TABLE sales (\n",
    "  customer_id VARCHAR(10),\n",
    "  order_date DATE,\n",
    "  product_id INTEGER\n",
    ");\n",
    "\"\"\"\n",
    "\n",
    "cursor = conn.cursor()\n",
    "cursor.execute(query)\n",
    "conn.commit()\n",
    "\n",
    "\n",
    "query = \"\"\"\n",
    "INSERT INTO sales\n",
    "  (customer_id, order_date, product_id)\n",
    "VALUES \n",
    "  ('A', '2021-01-01', 1),\n",
    "  ('A', '2021-01-01', 2),\n",
    "  ('A', '2021-01-07', 2),\n",
    "  ('A', '2021-01-10', 3),\n",
    "  ('A', '2021-01-11', 3),\n",
    "  ('A', '2021-01-11', 3),\n",
    "  ('B', '2021-01-01', 2),\n",
    "  ('B', '2021-01-02', 2),\n",
    "  ('B', '2021-01-04', 1),\n",
    "  ('B', '2021-01-11', 1),\n",
    "  ('B', '2021-01-16', 3),\n",
    "  ('B', '2021-02-01', 3),\n",
    "  ('C', '2021-01-01', 3),\n",
    "  ('C', '2021-01-01', 3),\n",
    "  ('C', '2021-01-07', 3);\n",
    " \n",
    "\"\"\"\n",
    "\n",
    "\n",
    "cursor = conn.cursor()\n",
    "cursor.execute(query)\n",
    "conn.commit()\n"
   ]
  },
  {
   "cell_type": "markdown",
   "metadata": {},
   "source": [
    "## Menu Data Table"
   ]
  },
  {
   "cell_type": "code",
   "execution_count": 8,
   "metadata": {},
   "outputs": [],
   "source": [
    "query = \"\"\"DROP Table IF EXISTS menu;\"\"\"\n",
    "cursor = conn.cursor()\n",
    "cursor.execute(query)\n",
    "\n",
    "query = \"\"\"\n",
    "CREATE TABLE menu (\n",
    "  product_id INTEGER,\n",
    "  product_name VARCHAR(5),\n",
    "  price INTEGER\n",
    ");\n",
    "\"\"\"\n",
    "\n",
    "cursor = conn.cursor()\n",
    "cursor.execute(query)\n",
    "conn.commit()\n",
    "\n",
    "\n",
    "query = \"\"\"\n",
    "INSERT INTO menu\n",
    "  (product_id, product_name, price)\n",
    "VALUES\n",
    "  (1, 'sushi', 10),\n",
    "  (2, 'curry', 15),\n",
    "  (3, 'ramen', 12);\n",
    " \n",
    "\"\"\"\n",
    "\n",
    "\n",
    "cursor = conn.cursor()\n",
    "cursor.execute(query)\n",
    "conn.commit()\n"
   ]
  },
  {
   "cell_type": "markdown",
   "metadata": {},
   "source": [
    "## Customer Data Table"
   ]
  },
  {
   "cell_type": "code",
   "execution_count": 9,
   "metadata": {},
   "outputs": [],
   "source": [
    "query = \"\"\"DROP Table IF EXISTS members;\"\"\"\n",
    "cursor = conn.cursor()\n",
    "cursor.execute(query)\n",
    "\n",
    "query = \"\"\"\n",
    "CREATE TABLE members (\n",
    "  customer_id VARCHAR(1),\n",
    "  join_date DATE\n",
    ");\n",
    "\"\"\"\n",
    "\n",
    "cursor = conn.cursor()\n",
    "cursor.execute(query)\n",
    "conn.commit()\n",
    "\n",
    "\n",
    "query = \"\"\"\n",
    "INSERT INTO members\n",
    "  (customer_id, join_date)\n",
    "VALUES\n",
    "  ('A', '2021-01-07'),\n",
    "  ('B', '2021-01-09');;\n",
    "\"\"\"\n",
    "\n",
    "\n",
    "cursor = conn.cursor()\n",
    "cursor.execute(query)\n",
    "conn.commit()\n"
   ]
  },
  {
   "cell_type": "markdown",
   "metadata": {},
   "source": [
    "# Case Study Questions\n"
   ]
  },
  {
   "cell_type": "markdown",
   "metadata": {},
   "source": [
    "## 1. What is the total amount each customer spent at the restaurant"
   ]
  },
  {
   "cell_type": "code",
   "execution_count": 10,
   "metadata": {},
   "outputs": [
    {
     "data": {
      "image/png": "[encoded data removed]",
      "text/plain": [
       "<Figure size 640x480 with 1 Axes>"
      ]
     },
     "metadata": {},
     "output_type": "display_data"
    }
   ],
   "source": [
    "# SQL query for the question\n",
    "query = \"\"\"\n",
    "SELECT\n",
    "    s.customer_id,\n",
    "    SUM(price) AS total_spent\n",
    "FROM SALES s\n",
    "    JOIN menu m \n",
    "        ON s.product_id = m.product_id\n",
    "GROUP BY 1;\n",
    "\"\"\"\n",
    "\n",
    "cursor = conn.cursor()\n",
    "cursor.execute(query)\n",
    "conn.commit()\n",
    "\n",
    "# Results of the SQL query\n",
    "results = cursor.fetchall()\n",
    "\n",
    "df = pd.DataFrame(results, columns = ['customer_id','total_spent($)'])\n",
    "\n",
    "\n",
    "barplot = sns.barplot(x='customer_id', y='total_spent($)',data=df, palette=\"viridis\")\n",
    "\n",
    "# Add labels and title\n",
    "plt.xlabel('Customers', fontsize=12)\n",
    "plt.ylabel('Total Amount Spent ($)', fontsize=12)\n",
    "plt.title('Total Amount Spent by Each Customer', fontsize=14)\n",
    "\n",
    "# Show the plot\n",
    "plt.show()"
   ]
  },
  {
   "cell_type": "markdown",
   "metadata": {},
   "source": [
    "## 2. How many days has each customer visited the restaurant?"
   ]
  },
  {
   "cell_type": "code",
   "execution_count": 11,
   "metadata": {},
   "outputs": [
    {
     "data": {
      "image/png": "[encoded data removed]",
      "text/plain": [
       "<Figure size 640x480 with 1 Axes>"
      ]
     },
     "metadata": {},
     "output_type": "display_data"
    }
   ],
   "source": [
    "# SQL query for the question\n",
    "query = \"\"\"\n",
    "SELECT\n",
    "    s.customer_id,\n",
    "    COUNT(DISTINCT order_date) AS no_of_days\n",
    "FROM SALES s\n",
    "GROUP BY 1;\n",
    "\"\"\"\n",
    "\n",
    "cursor = conn.cursor()\n",
    "cursor.execute(query)\n",
    "conn.commit()\n",
    "\n",
    "# Results of the SQL query\n",
    "results = cursor.fetchall()\n",
    "\n",
    "df = pd.DataFrame(results, columns = ['customer_id','no_of_days'])\n",
    "\n",
    "\n",
    "barplot = sns.barplot(x='customer_id', y='no_of_days',data=df, palette=\"viridis\")\n",
    "\n",
    "# Add labels and title\n",
    "plt.xlabel('Customers', fontsize=12)\n",
    "plt.ylabel('Number of Days Visited', fontsize=12)\n",
    "plt.title('Number of Days visited by Each Customer', fontsize=14)\n",
    "\n",
    "# Show the plot\n",
    "plt.show()"
   ]
  },
  {
   "cell_type": "markdown",
   "metadata": {},
   "source": [
    "## 3. What was the first item from the menu purchased by each customer?"
   ]
  },
  {
   "cell_type": "code",
   "execution_count": 12,
   "metadata": {},
   "outputs": [
    {
     "name": "stdout",
     "output_type": "stream",
     "text": [
      "  customer_id first_order\n",
      "0           A       sushi\n",
      "1           B       curry\n",
      "2           C       ramen\n"
     ]
    }
   ],
   "source": [
    "# SQL query for the question\n",
    "query = \"\"\"\n",
    "\n",
    "WITH cte AS (\n",
    "SELECT\n",
    "    s.customer_id,\n",
    "    s.product_id,\n",
    "    ROW_NUMBER() OVER(\n",
    "            PARTITION BY s.customer_id\n",
    "            ORDER BY s.order_date) as rnk\n",
    "FROM sales s\n",
    ")\n",
    "SELECT\n",
    "    c.customer_id,\n",
    "    m.product_name\n",
    "FROM cte c\n",
    "    JOIN menu m\n",
    "        ON c.product_id = m.product_id\n",
    "WHERE rnk = 1;\n",
    "\"\"\"\n",
    "\n",
    "cursor = conn.cursor()\n",
    "cursor.execute(query)\n",
    "conn.commit()\n",
    "\n",
    "# Results of the SQL query\n",
    "results = cursor.fetchall()\n",
    "\n",
    "df = pd.DataFrame(results, columns = ['customer_id','first_order'])\n",
    "\n",
    "print(df)"
   ]
  },
  {
   "cell_type": "markdown",
   "metadata": {},
   "source": [
    "## 4. What is the most purchased item on the menu and how many times was it purchased by all customers?"
   ]
  },
  {
   "cell_type": "code",
   "execution_count": 43,
   "metadata": {},
   "outputs": [
    {
     "name": "stdout",
     "output_type": "stream",
     "text": [
      "  product_name  product_count\n",
      "0        ramen              8\n",
      "\n",
      "  customer_id product_name  product_count\n",
      "0           A        ramen              3\n",
      "1           B        ramen              2\n",
      "2           C        ramen              3\n"
     ]
    }
   ],
   "source": [
    "# SQL query for the question\n",
    "query = \"\"\"\n",
    "SELECT\n",
    "    product_name,\n",
    "    COUNT(product_name) as product_count\n",
    "FROM sales s\n",
    "    JOIN menu m\n",
    "        ON s.product_id = m.product_id\n",
    "GROUP BY 1\n",
    "ORDER BY 2 DESC\n",
    "LIMIT 1;\n",
    "\"\"\"\n",
    "\n",
    "cursor = conn.cursor()\n",
    "cursor.execute(query)\n",
    "conn.commit()\n",
    "\n",
    "# Results of the SQL query\n",
    "results = cursor.fetchall()\n",
    "\n",
    "df = pd.DataFrame(results, columns = ['product_name','product_count'])\n",
    "\n",
    "print(df)\n",
    "\n",
    "\n",
    "print()\n",
    "# SQL query for the question\n",
    "query = \"\"\"\n",
    "with cte as \n",
    "(SELECT\n",
    "    product_id,\n",
    "    COUNT(product_id) as product_count\n",
    "FROM sales s\n",
    "GROUP BY 1\n",
    "ORDER BY 2 DESC\n",
    "LIMIT 1)\n",
    "SELECT \n",
    "    customer_id,\n",
    "    product_name,\n",
    "    COUNT(s.product_id) as product_count\n",
    "FROM sales s\n",
    "    JOIN menu m\n",
    "        ON s.product_id = m.product_id\n",
    "WHERE s.product_id = (\n",
    "                    SELECT\n",
    "                        c.product_id\n",
    "                    FROM cte c\n",
    "                )\n",
    "GROUP BY 1,2;\n",
    "\"\"\"\n",
    "\n",
    "cursor = conn.cursor()\n",
    "cursor.execute(query)\n",
    "conn.commit()\n",
    "\n",
    "# Results of the SQL query\n",
    "results = cursor.fetchall()\n",
    "\n",
    "df = pd.DataFrame(results, columns = ['customer_id','product_name','product_count'])\n",
    "\n",
    "print(df)"
   ]
  },
  {
   "cell_type": "markdown",
   "metadata": {},
   "source": [
    "## Which item was the most popular for each customer?"
   ]
  },
  {
   "cell_type": "code",
   "execution_count": 60,
   "metadata": {},
   "outputs": [
    {
     "name": "stdout",
     "output_type": "stream",
     "text": [
      "  customer_id product_name\n",
      "0           A        ramen\n",
      "1           B        curry\n",
      "2           C        ramen\n"
     ]
    }
   ],
   "source": [
    "# SQL query for the question\n",
    "query = \"\"\"\n",
    "with cte as \n",
    "(SELECT\n",
    "    customer_id,\n",
    "    product_name,\n",
    "    COUNT(product_name) as product_count,\n",
    "    ROW_NUMBER() OVER(\n",
    "                PARTITION BY customer_id\n",
    "                ORDER BY COUNT(product_name) DESC\n",
    "    ) as rnk \n",
    "FROM sales s\n",
    "    JOIN menu m\n",
    "        ON s.product_id = m.product_id\n",
    "GROUP BY 1,2\n",
    ")\n",
    "SELECT\n",
    "    customer_id,\n",
    "    product_name\n",
    "FROM cte\n",
    "WHERE rnk = 1;\n",
    "\"\"\"\n",
    "\n",
    "cursor = conn.cursor()\n",
    "cursor.execute(query)\n",
    "conn.commit()\n",
    "\n",
    "# Results of the SQL query\n",
    "results = cursor.fetchall()\n",
    "\n",
    "df = pd.DataFrame(results, columns = ['customer_id','product_name'])\n",
    "\n",
    "print(df)"
   ]
  },
  {
   "cell_type": "markdown",
   "metadata": {},
   "source": [
    "## Which item was purchased first by the customer after they became a member?"
   ]
  },
  {
   "cell_type": "code",
   "execution_count": 61,
   "metadata": {},
   "outputs": [
    {
     "name": "stdout",
     "output_type": "stream",
     "text": [
      "  customer_id product_name\n",
      "0           A        curry\n",
      "1           B        sushi\n"
     ]
    }
   ],
   "source": [
    "# SQL query for the question\n",
    "query = \"\"\"\n",
    "WITH cte AS(\n",
    "SELECT\n",
    "    s.customer_id,\n",
    "    product_name,\n",
    "    ROW_NUMBER() OVER(\n",
    "        PARTITION BY s.customer_id\n",
    "        ORDER BY order_date\n",
    "    ) as rnk\n",
    "FROM sales s\n",
    "    JOIN menu m \n",
    "        ON m.product_id = s.product_id\n",
    "    JOIN members c\n",
    "        ON s.customer_id = c.customer_id\n",
    "            AND s.order_date >= c.join_date\n",
    ")\n",
    "SELECT\n",
    "    customer_id,\n",
    "    product_name\n",
    "FROM cte\n",
    "WHERE rnk = 1;\n",
    "\"\"\"\n",
    "\n",
    "cursor = conn.cursor()\n",
    "cursor.execute(query)\n",
    "conn.commit()\n",
    "\n",
    "# Results of the SQL query\n",
    "results = cursor.fetchall()\n",
    "\n",
    "df = pd.DataFrame(results, columns = ['customer_id','product_name'])\n",
    "\n",
    "print(df)"
   ]
  },
  {
   "cell_type": "markdown",
   "metadata": {},
   "source": [
    "## Which item was purchased just before the customer became a member?"
   ]
  },
  {
   "cell_type": "code",
   "execution_count": 63,
   "metadata": {},
   "outputs": [
    {
     "name": "stdout",
     "output_type": "stream",
     "text": [
      "  customer_id product_name\n",
      "0           A        sushi\n",
      "1           A        curry\n",
      "2           B        sushi\n"
     ]
    }
   ],
   "source": [
    "# SQL query for the question\n",
    "query = \"\"\"\n",
    "WITH cte AS(\n",
    "SELECT\n",
    "    s.customer_id,\n",
    "    product_name,\n",
    "    RANK() OVER(\n",
    "        PARTITION BY s.customer_id\n",
    "        ORDER BY order_date DESC\n",
    "    ) as rnk\n",
    "FROM sales s\n",
    "    JOIN menu m \n",
    "        ON m.product_id = s.product_id\n",
    "    JOIN members c\n",
    "        ON s.customer_id = c.customer_id\n",
    "            AND s.order_date < c.join_date\n",
    ")\n",
    "SELECT\n",
    "    customer_id,\n",
    "    product_name\n",
    "FROM cte\n",
    "WHERE rnk = 1;\n",
    "\"\"\"\n",
    "\n",
    "cursor = conn.cursor()\n",
    "cursor.execute(query)\n",
    "conn.commit()\n",
    "\n",
    "# Results of the SQL query\n",
    "results = cursor.fetchall()\n",
    "\n",
    "df = pd.DataFrame(results, columns = ['customer_id','product_name'])\n",
    "\n",
    "print(df)"
   ]
  },
  {
   "cell_type": "markdown",
   "metadata": {},
   "source": [
    "## What is the total items and amount spent for each member before they became a member?"
   ]
  },
  {
   "cell_type": "code",
   "execution_count": 66,
   "metadata": {},
   "outputs": [
    {
     "name": "stdout",
     "output_type": "stream",
     "text": [
      "  customer_id  total_items_ordered total_spent($)\n",
      "0           B                    3             40\n",
      "1           A                    2             25\n"
     ]
    }
   ],
   "source": [
    "# SQL query for the question\n",
    "query = \"\"\"\n",
    "SELECT\n",
    "    s.customer_id,\n",
    "    COUNT(m.product_name) AS total_items,\n",
    "    SUM(m.price) AS total_amount_spent\n",
    "FROM sales s\n",
    "    JOIN menu m \n",
    "        ON m.product_id = s.product_id\n",
    "    JOIN members c\n",
    "        ON s.customer_id = c.customer_id\n",
    "            AND s.order_date < c.join_date\n",
    "GROUP BY 1;\n",
    "\"\"\"\n",
    "\n",
    "cursor = conn.cursor()\n",
    "cursor.execute(query)\n",
    "conn.commit()\n",
    "\n",
    "# Results of the SQL query\n",
    "results = cursor.fetchall()\n",
    "\n",
    "df = pd.DataFrame(results, columns = ['customer_id','total_items_ordered','total_spent($)'])\n",
    "\n",
    "print(df)"
   ]
  },
  {
   "cell_type": "markdown",
   "metadata": {},
   "source": [
    "## If each $1 spent equates to 10 points and sushi has a 2x points multiplier - how many points would each customer have?\n"
   ]
  },
  {
   "cell_type": "code",
   "execution_count": 69,
   "metadata": {},
   "outputs": [
    {
     "name": "stdout",
     "output_type": "stream",
     "text": [
      "  customer_id total_points\n",
      "0           A          860\n",
      "1           B          940\n",
      "2           C          360\n"
     ]
    }
   ],
   "source": [
    "# SQL query for the question\n",
    "query = \"\"\"\n",
    "SELECT\n",
    "    s.customer_id,\n",
    "    SUM(\n",
    "        CASE\n",
    "            WHEN s.product_id = 1 THEN 2 * 10 * m.price\n",
    "            ELSE 10 * m.price\n",
    "        END\n",
    "    ) as total_points\n",
    "FROM sales s\n",
    "    JOIN menu m \n",
    "        ON m.product_id = s.product_id\n",
    "GROUP BY 1;\n",
    "\"\"\"\n",
    "\n",
    "cursor = conn.cursor()\n",
    "cursor.execute(query)\n",
    "conn.commit()\n",
    "\n",
    "# Results of the SQL query\n",
    "results = cursor.fetchall()\n",
    "\n",
    "df = pd.DataFrame(results, columns = ['customer_id','total_points'])\n",
    "\n",
    "print(df)"
   ]
  },
  {
   "cell_type": "markdown",
   "metadata": {},
   "source": [
    "## In the first week after a customer joins the program (including their join date) they earn 2x points on all items, not just sushi - how many points do customer A and B have at the end of January?"
   ]
  },
  {
   "cell_type": "code",
   "execution_count": 72,
   "metadata": {},
   "outputs": [
    {
     "name": "stdout",
     "output_type": "stream",
     "text": [
      "  customer_id total_points\n",
      "0           A         1270\n",
      "1           B          840\n"
     ]
    }
   ],
   "source": [
    "# SQL query for the question\n",
    "query = \"\"\"\n",
    "SELECT\n",
    "    s.customer_id,\n",
    "    SUM(\n",
    "        CASE\n",
    "            WHEN s.order_date >= c.join_date THEN 2 * 10 * m.price\n",
    "            ELSE 10 * m.price\n",
    "        END\n",
    "    ) as total_points\n",
    "FROM sales s\n",
    "    JOIN menu m \n",
    "        ON m.product_id = s.product_id\n",
    "    JOIN members c\n",
    "        ON s.customer_id = c.customer_id\n",
    "WHERE MONTH(order_date) = 1 \n",
    "    AND s.customer_id in ('A','B')\n",
    "GROUP BY 1\n",
    "ORDER BY 2 DESC;\n",
    "\"\"\"\n",
    "\n",
    "cursor = conn.cursor()\n",
    "cursor.execute(query)\n",
    "conn.commit()\n",
    "\n",
    "# Results of the SQL query\n",
    "results = cursor.fetchall()\n",
    "\n",
    "df = pd.DataFrame(results, columns = ['customer_id','total_points'])\n",
    "\n",
    "print(df)"
   ]
  },
  {
   "cell_type": "code",
   "execution_count": null,
   "metadata": {},
   "outputs": [],
   "source": []
  }
 ],
 "metadata": {
  "kernelspec": {
   "display_name": "base",
   "language": "python",
   "name": "python3"
  },
  "language_info": {
   "codemirror_mode": {
    "name": "ipython",
    "version": 3
   },
   "file_extension": ".py",
   "mimetype": "text/x-python",
   "name": "python",
   "nbconvert_exporter": "python",
   "pygments_lexer": "ipython3",
   "version": "3.11.5"
  }
 },
 "nbformat": 4,
 "nbformat_minor": 2
}
